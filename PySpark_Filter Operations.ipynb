{
 "cells": [
  {
   "cell_type": "markdown",
   "id": "111ff0f1-e95c-4d7d-991b-94d3fc36d1eb",
   "metadata": {},
   "source": [
    "### Filter Operations:\n",
    "- &, |, ~"
   ]
  },
  {
   "cell_type": "code",
   "execution_count": 1,
   "id": "aa14807c-701f-4eb7-a0c6-178dd072d63f",
   "metadata": {},
   "outputs": [],
   "source": [
    "from pyspark.sql import SparkSession\n",
    "spark = SparkSession.builder.appName('Using filter operation').getOrCreate()"
   ]
  },
  {
   "cell_type": "code",
   "execution_count": 2,
   "id": "829c4e8d-bba2-49c4-8a16-b7fc6226baed",
   "metadata": {},
   "outputs": [
    {
     "name": "stdout",
     "output_type": "stream",
     "text": [
      "+-------+---+----------+------+\n",
      "|   Name|Age|Experience|Salary|\n",
      "+-------+---+----------+------+\n",
      "|Radhika| 23|         8| 30000|\n",
      "| Shivam| 24|        10| 50000|\n",
      "|  Aashi| 18|         2| 15000|\n",
      "| Mayank| 19|         4| 15000|\n",
      "| Millie| 26|         6| 40000|\n",
      "|    Tom| 30|        13| 65000|\n",
      "+-------+---+----------+------+\n",
      "\n"
     ]
    }
   ],
   "source": [
    "df_pyspark = spark.read.csv(\"test3.csv\", header=True, inferSchema=True)\n",
    "df_pyspark.show()"
   ]
  },
  {
   "cell_type": "markdown",
   "id": "44414454-be91-4a21-8286-8c2605bc792d",
   "metadata": {},
   "source": [
    "#### a) Using 1 condition:"
   ]
  },
  {
   "cell_type": "code",
   "execution_count": 6,
   "id": "0f6526af-adf8-4e9a-8b1b-55c585ab54e9",
   "metadata": {},
   "outputs": [
    {
     "name": "stdout",
     "output_type": "stream",
     "text": [
      "+------+---+----------+------+\n",
      "|  Name|Age|Experience|Salary|\n",
      "+------+---+----------+------+\n",
      "| Aashi| 18|         2| 15000|\n",
      "|Mayank| 19|         4| 15000|\n",
      "+------+---+----------+------+\n",
      "\n"
     ]
    }
   ],
   "source": [
    "#Salary of people <= 20,000\n",
    "df_pyspark.filter(\"Salary<=20000\").show()"
   ]
  },
  {
   "cell_type": "code",
   "execution_count": 5,
   "id": "a84b4e3a-d216-4d04-97a2-cbb264fe6971",
   "metadata": {},
   "outputs": [
    {
     "name": "stdout",
     "output_type": "stream",
     "text": [
      "+------+---+----------+------+\n",
      "|  Name|Age|Experience|Salary|\n",
      "+------+---+----------+------+\n",
      "| Aashi| 18|         2| 15000|\n",
      "|Mayank| 19|         4| 15000|\n",
      "+------+---+----------+------+\n",
      "\n"
     ]
    }
   ],
   "source": [
    "#can also be written as\n",
    "df_pyspark.filter(df_pyspark['Salary']<=20000).show()"
   ]
  },
  {
   "cell_type": "code",
   "execution_count": 4,
   "id": "7aa8fb19-c5ee-4a4d-83dd-3b49aa555792",
   "metadata": {},
   "outputs": [
    {
     "name": "stdout",
     "output_type": "stream",
     "text": [
      "+------+---+\n",
      "|  Name|Age|\n",
      "+------+---+\n",
      "| Aashi| 18|\n",
      "|Mayank| 19|\n",
      "+------+---+\n",
      "\n"
     ]
    }
   ],
   "source": [
    "#picking only 2 columns using SELECT\n",
    "#salary of people <= 20,000 with Name and Age\n",
    "\n",
    "df_pyspark.filter(\"Salary<=20000\").select(['Name', 'Age']).show()"
   ]
  },
  {
   "cell_type": "markdown",
   "id": "4237553c-bd95-49cf-a1c3-a7c566da1f15",
   "metadata": {},
   "source": [
    "#### b) Using 2 conditions:"
   ]
  },
  {
   "cell_type": "markdown",
   "id": "71116bf1-4dff-4a41-9676-2b05662ca585",
   "metadata": {},
   "source": [
    "#### AND &"
   ]
  },
  {
   "cell_type": "code",
   "execution_count": 8,
   "id": "c97d9eeb-44a8-4944-b769-f3f2d54fb8b8",
   "metadata": {},
   "outputs": [
    {
     "name": "stdout",
     "output_type": "stream",
     "text": [
      "+-------+---+----------+------+\n",
      "|   Name|Age|Experience|Salary|\n",
      "+-------+---+----------+------+\n",
      "|Radhika| 23|         8| 30000|\n",
      "|  Aashi| 18|         2| 15000|\n",
      "| Mayank| 19|         4| 15000|\n",
      "+-------+---+----------+------+\n",
      "\n"
     ]
    }
   ],
   "source": [
    "#double brackets\n",
    "#each condition has its own bracket, both conditions in another bracket\n",
    "\n",
    "df_pyspark.filter((df_pyspark['Salary']<=30000) & \n",
    "                  (df_pyspark['Salary']>=15000)).show()"
   ]
  },
  {
   "cell_type": "markdown",
   "id": "f7cd2eaa-88f6-4b1f-b630-3a8202e6a4cb",
   "metadata": {},
   "source": [
    "#### OR |"
   ]
  },
  {
   "cell_type": "code",
   "execution_count": 9,
   "id": "0f68842a-48be-4e74-83c2-a7d1bfccdeab",
   "metadata": {},
   "outputs": [
    {
     "name": "stdout",
     "output_type": "stream",
     "text": [
      "+-------+---+----------+------+\n",
      "|   Name|Age|Experience|Salary|\n",
      "+-------+---+----------+------+\n",
      "|Radhika| 23|         8| 30000|\n",
      "| Shivam| 24|        10| 50000|\n",
      "|  Aashi| 18|         2| 15000|\n",
      "| Mayank| 19|         4| 15000|\n",
      "| Millie| 26|         6| 40000|\n",
      "|    Tom| 30|        13| 65000|\n",
      "+-------+---+----------+------+\n",
      "\n"
     ]
    }
   ],
   "source": [
    "df_pyspark.filter((df_pyspark['Salary']<=30000) | \n",
    "                  (df_pyspark['Salary']>=15000)).show()"
   ]
  },
  {
   "cell_type": "markdown",
   "id": "51dcfb81-68c7-4d86-88ea-b7dadb0ae30d",
   "metadata": {},
   "source": [
    "#### NOT/INVERSE ~"
   ]
  },
  {
   "cell_type": "code",
   "execution_count": 10,
   "id": "3d122c03-add0-4b25-a3de-41b0179c9de6",
   "metadata": {},
   "outputs": [
    {
     "name": "stdout",
     "output_type": "stream",
     "text": [
      "+-------+---+----------+------+\n",
      "|   Name|Age|Experience|Salary|\n",
      "+-------+---+----------+------+\n",
      "|Radhika| 23|         8| 30000|\n",
      "| Shivam| 24|        10| 50000|\n",
      "| Millie| 26|         6| 40000|\n",
      "|    Tom| 30|        13| 65000|\n",
      "+-------+---+----------+------+\n",
      "\n"
     ]
    }
   ],
   "source": [
    "#salary not <= 20000\n",
    "df_pyspark.filter(~(df_pyspark['Salary']<=20000)).show()"
   ]
  }
 ],
 "metadata": {
  "kernelspec": {
   "display_name": "pyspark-env",
   "language": "python",
   "name": "pyspark-env"
  },
  "language_info": {
   "codemirror_mode": {
    "name": "ipython",
    "version": 3
   },
   "file_extension": ".py",
   "mimetype": "text/x-python",
   "name": "python",
   "nbconvert_exporter": "python",
   "pygments_lexer": "ipython3",
   "version": "3.12.9"
  }
 },
 "nbformat": 4,
 "nbformat_minor": 5
}
