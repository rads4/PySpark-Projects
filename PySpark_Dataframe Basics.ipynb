{
 "cells": [
  {
   "cell_type": "markdown",
   "id": "6d6eb41e-da42-43f4-91ab-6b2ef03f0666",
   "metadata": {},
   "source": [
    "### Explored:\n",
    "- PySpark Dataframe\n",
    "- Creating a Spark Session\n",
    "- Reading the dataset\n",
    "- Making Column Headers\n",
    "- Used type(), head(), printSchema(), inferSchema(), show(), describe()\n",
    "- Selecting Columns\n",
    "- Checking the Datatypes of column\n",
    "- Adding Columns\n",
    "- Dropping Columns\n",
    "- Renaming Columns"
   ]
  },
  {
   "cell_type": "code",
   "execution_count": 44,
   "id": "8ddeecdc-bac7-4d12-b3cf-7029834e3f54",
   "metadata": {},
   "outputs": [],
   "source": [
    "import pyspark"
   ]
  },
  {
   "cell_type": "code",
   "execution_count": 45,
   "id": "22d4565a-f560-4d1f-9dec-41b0492aa00f",
   "metadata": {},
   "outputs": [
    {
     "data": {
      "text/html": [
       "<div>\n",
       "<style scoped>\n",
       "    .dataframe tbody tr th:only-of-type {\n",
       "        vertical-align: middle;\n",
       "    }\n",
       "\n",
       "    .dataframe tbody tr th {\n",
       "        vertical-align: top;\n",
       "    }\n",
       "\n",
       "    .dataframe thead th {\n",
       "        text-align: right;\n",
       "    }\n",
       "</style>\n",
       "<table border=\"1\" class=\"dataframe\">\n",
       "  <thead>\n",
       "    <tr style=\"text-align: right;\">\n",
       "      <th></th>\n",
       "      <th>Name</th>\n",
       "      <th>Age</th>\n",
       "    </tr>\n",
       "  </thead>\n",
       "  <tbody>\n",
       "    <tr>\n",
       "      <th>0</th>\n",
       "      <td>Radhika</td>\n",
       "      <td>23</td>\n",
       "    </tr>\n",
       "    <tr>\n",
       "      <th>1</th>\n",
       "      <td>Shivam</td>\n",
       "      <td>24</td>\n",
       "    </tr>\n",
       "    <tr>\n",
       "      <th>2</th>\n",
       "      <td>Aashi</td>\n",
       "      <td>18</td>\n",
       "    </tr>\n",
       "  </tbody>\n",
       "</table>\n",
       "</div>"
      ],
      "text/plain": [
       "      Name  Age\n",
       "0  Radhika   23\n",
       "1   Shivam   24\n",
       "2    Aashi   18"
      ]
     },
     "execution_count": 45,
     "metadata": {},
     "output_type": "execute_result"
    }
   ],
   "source": [
    "import pandas as pd\n",
    "pd.read_csv('test1.csv')"
   ]
  },
  {
   "cell_type": "code",
   "execution_count": 46,
   "id": "1b313b51-3719-42de-a308-8675281f9aa2",
   "metadata": {},
   "outputs": [],
   "source": [
    "#always create a spark session\n",
    "from pyspark.sql import SparkSession"
   ]
  },
  {
   "cell_type": "code",
   "execution_count": 47,
   "id": "92baccc9-f651-4657-a8e5-fe2dd6cfa9e1",
   "metadata": {},
   "outputs": [],
   "source": [
    "spark = SparkSession.builder.appName(\"Practice\").getOrCreate()"
   ]
  },
  {
   "cell_type": "code",
   "execution_count": 48,
   "id": "742377e0-b520-47c3-93dd-b9f1e6b5e4ba",
   "metadata": {},
   "outputs": [
    {
     "data": {
      "text/html": [
       "\n",
       "            <div>\n",
       "                <p><b>SparkSession - in-memory</b></p>\n",
       "                \n",
       "        <div>\n",
       "            <p><b>SparkContext</b></p>\n",
       "\n",
       "            <p><a href=\"http://rAdhika-Laptop:4040\">Spark UI</a></p>\n",
       "\n",
       "            <dl>\n",
       "              <dt>Version</dt>\n",
       "                <dd><code>v3.5.5</code></dd>\n",
       "              <dt>Master</dt>\n",
       "                <dd><code>local[*]</code></dd>\n",
       "              <dt>AppName</dt>\n",
       "                <dd><code>Practice</code></dd>\n",
       "            </dl>\n",
       "        </div>\n",
       "        \n",
       "            </div>\n",
       "        "
      ],
      "text/plain": [
       "<pyspark.sql.session.SparkSession at 0x212af108800>"
      ]
     },
     "execution_count": 48,
     "metadata": {},
     "output_type": "execute_result"
    }
   ],
   "source": [
    "spark"
   ]
  },
  {
   "cell_type": "code",
   "execution_count": 49,
   "id": "602d0141-a648-4180-9846-96e6c073016d",
   "metadata": {},
   "outputs": [],
   "source": [
    "#reading a dataset w.r.t spark\n",
    "df_pyspark = spark.read.csv('test1.csv')"
   ]
  },
  {
   "cell_type": "code",
   "execution_count": 50,
   "id": "e9fd8aad-ce49-45aa-9931-e1723a4b1186",
   "metadata": {},
   "outputs": [
    {
     "data": {
      "text/plain": [
       "DataFrame[_c0: string, _c1: string]"
      ]
     },
     "execution_count": 50,
     "metadata": {},
     "output_type": "execute_result"
    }
   ],
   "source": [
    "df_pyspark   #shows 2 columns c0 and c1"
   ]
  },
  {
   "cell_type": "code",
   "execution_count": 51,
   "id": "c4257d7c-32d7-40df-b652-99b4e6743e2d",
   "metadata": {},
   "outputs": [
    {
     "name": "stdout",
     "output_type": "stream",
     "text": [
      "+-------+---+\n",
      "|    _c0|_c1|\n",
      "+-------+---+\n",
      "|   Name|Age|\n",
      "|Radhika| 23|\n",
      "| Shivam| 24|\n",
      "|  Aashi| 18|\n",
      "+-------+---+\n",
      "\n"
     ]
    }
   ],
   "source": [
    "#shows the entire dataset\n",
    "df_pyspark.show()  "
   ]
  },
  {
   "cell_type": "code",
   "execution_count": 52,
   "id": "342bed93-583e-4811-aea3-c8338fbd03f3",
   "metadata": {},
   "outputs": [],
   "source": [
    "#want to make Name and Age as our column headers"
   ]
  },
  {
   "cell_type": "code",
   "execution_count": 53,
   "id": "5aca163f-2f38-4bd7-a9e8-21656a3d63ac",
   "metadata": {},
   "outputs": [],
   "source": [
    "#making column name and age as our main headings\n",
    "df_pyspark = spark.read.option('header', 'true').csv('test1.csv')\n",
    "\n",
    "#1st row value will now be considered as header"
   ]
  },
  {
   "cell_type": "code",
   "execution_count": 54,
   "id": "600184ed-86bd-4d03-a3a9-af5bd91ada63",
   "metadata": {},
   "outputs": [
    {
     "name": "stdout",
     "output_type": "stream",
     "text": [
      "+-------+---+\n",
      "|   Name|Age|\n",
      "+-------+---+\n",
      "|Radhika| 23|\n",
      "| Shivam| 24|\n",
      "|  Aashi| 18|\n",
      "+-------+---+\n",
      "\n"
     ]
    }
   ],
   "source": [
    "#using .show() to view\n",
    "df_pyspark.show()"
   ]
  },
  {
   "cell_type": "code",
   "execution_count": 55,
   "id": "086fab10-5f4f-4a23-90d0-464564eda1af",
   "metadata": {},
   "outputs": [
    {
     "data": {
      "text/plain": [
       "pyspark.sql.dataframe.DataFrame"
      ]
     },
     "execution_count": 55,
     "metadata": {},
     "output_type": "execute_result"
    }
   ],
   "source": [
    "#using type\n",
    "type(df_pyspark)"
   ]
  },
  {
   "cell_type": "code",
   "execution_count": 56,
   "id": "9bb9ccee-cd84-49de-8852-eea0ed3b0120",
   "metadata": {},
   "outputs": [
    {
     "data": {
      "text/plain": [
       "[Row(Name='Radhika', Age='23'),\n",
       " Row(Name='Shivam', Age='24'),\n",
       " Row(Name='Aashi', Age='18')]"
      ]
     },
     "execution_count": 56,
     "metadata": {},
     "output_type": "execute_result"
    }
   ],
   "source": [
    "#using head()\n",
    "df_pyspark.head(3)"
   ]
  },
  {
   "cell_type": "code",
   "execution_count": 57,
   "id": "3671d170-b858-4f95-a59c-cc5695376979",
   "metadata": {},
   "outputs": [
    {
     "name": "stdout",
     "output_type": "stream",
     "text": [
      "root\n",
      " |-- Name: string (nullable = true)\n",
      " |-- Age: string (nullable = true)\n",
      "\n"
     ]
    }
   ],
   "source": [
    "#using printSchema() to see more info abt columns\n",
    "#checking the schema\n",
    "df_pyspark.printSchema()"
   ]
  },
  {
   "cell_type": "code",
   "execution_count": 58,
   "id": "4fadedc3-bd97-4b00-95cf-23b2af966678",
   "metadata": {},
   "outputs": [],
   "source": [
    "#It's taking Name & Age as String - because by default,it considers all as String "
   ]
  },
  {
   "cell_type": "code",
   "execution_count": 59,
   "id": "4e7a5727-da15-4b47-a883-c8ded9e3625c",
   "metadata": {},
   "outputs": [
    {
     "name": "stdout",
     "output_type": "stream",
     "text": [
      "root\n",
      " |-- Name: string (nullable = true)\n",
      " |-- Age: integer (nullable = true)\n",
      "\n"
     ]
    }
   ],
   "source": [
    "#Using inferSchema in reading the dataset\n",
    "df_pyspark = spark.read.option('header', 'true').csv('test1.csv', inferSchema=True)\n",
    "df_pyspark.printSchema()"
   ]
  },
  {
   "cell_type": "code",
   "execution_count": 60,
   "id": "41133048-68db-4d30-b63f-797df1e3366c",
   "metadata": {},
   "outputs": [
    {
     "name": "stdout",
     "output_type": "stream",
     "text": [
      "+-------+---+\n",
      "|   Name|Age|\n",
      "+-------+---+\n",
      "|Radhika| 23|\n",
      "| Shivam| 24|\n",
      "|  Aashi| 18|\n",
      "+-------+---+\n",
      "\n"
     ]
    }
   ],
   "source": [
    "#trying to include both header & inferSchema in one\n",
    "df_pyspark= spark.read.csv('test1.csv', header=True, inferSchema=True)\n",
    "df_pyspark.show()"
   ]
  },
  {
   "cell_type": "code",
   "execution_count": 61,
   "id": "4730bdca-9492-44c7-9c55-2d01e7efed60",
   "metadata": {},
   "outputs": [
    {
     "name": "stdout",
     "output_type": "stream",
     "text": [
      "root\n",
      " |-- Name: string (nullable = true)\n",
      " |-- Age: integer (nullable = true)\n",
      "\n"
     ]
    }
   ],
   "source": [
    "df_pyspark.printSchema()"
   ]
  },
  {
   "cell_type": "code",
   "execution_count": 62,
   "id": "459a33bd-2bda-4071-b13d-4ce95aa48837",
   "metadata": {},
   "outputs": [
    {
     "data": {
      "text/plain": [
       "pyspark.sql.dataframe.DataFrame"
      ]
     },
     "execution_count": 62,
     "metadata": {},
     "output_type": "execute_result"
    }
   ],
   "source": [
    "#checking type\n",
    "type(df_pyspark)"
   ]
  },
  {
   "cell_type": "code",
   "execution_count": 63,
   "id": "5d873d16-65cf-45c0-8e41-93da56dba99b",
   "metadata": {},
   "outputs": [
    {
     "data": {
      "text/plain": [
       "['Name', 'Age']"
      ]
     },
     "execution_count": 63,
     "metadata": {},
     "output_type": "execute_result"
    }
   ],
   "source": [
    "#getting column names\n",
    "df_pyspark.columns"
   ]
  },
  {
   "cell_type": "code",
   "execution_count": 64,
   "id": "f36a0271-a07b-4455-88c5-0356017869a0",
   "metadata": {},
   "outputs": [
    {
     "name": "stdout",
     "output_type": "stream",
     "text": [
      "+-------+\n",
      "|   Name|\n",
      "+-------+\n",
      "|Radhika|\n",
      "| Shivam|\n",
      "|  Aashi|\n",
      "+-------+\n",
      "\n"
     ]
    }
   ],
   "source": [
    "#selecting a particular column\n",
    "df_pyspark.select('Name').show()"
   ]
  },
  {
   "cell_type": "code",
   "execution_count": 65,
   "id": "5d413c38-e2e3-482b-8013-0abd26f03ffa",
   "metadata": {},
   "outputs": [
    {
     "name": "stdout",
     "output_type": "stream",
     "text": [
      "+-------+---+\n",
      "|   Name|Age|\n",
      "+-------+---+\n",
      "|Radhika| 23|\n",
      "| Shivam| 24|\n",
      "|  Aashi| 18|\n",
      "+-------+---+\n",
      "\n"
     ]
    }
   ],
   "source": [
    "#selecting more than 1 column\n",
    "df_pyspark.select(['Name', 'Age']).show()"
   ]
  },
  {
   "cell_type": "code",
   "execution_count": 66,
   "id": "5ac47022-54ab-4ac3-bfec-8cbdc5c20bfe",
   "metadata": {},
   "outputs": [
    {
     "data": {
      "text/plain": [
       "[('Name', 'string'), ('Age', 'int')]"
      ]
     },
     "execution_count": 66,
     "metadata": {},
     "output_type": "execute_result"
    }
   ],
   "source": [
    "#checking the datatypes\n",
    "df_pyspark.dtypes"
   ]
  },
  {
   "cell_type": "code",
   "execution_count": 67,
   "id": "58e1a684-851f-4c68-9d7e-0a9851686c40",
   "metadata": {},
   "outputs": [
    {
     "name": "stdout",
     "output_type": "stream",
     "text": [
      "+-------+------+------------------+\n",
      "|summary|  Name|               Age|\n",
      "+-------+------+------------------+\n",
      "|  count|     3|                 3|\n",
      "|   mean|  NULL|21.666666666666668|\n",
      "| stddev|  NULL|3.2145502536643185|\n",
      "|    min| Aashi|                18|\n",
      "|    max|Shivam|                24|\n",
      "+-------+------+------------------+\n",
      "\n"
     ]
    }
   ],
   "source": [
    "#using describe()\n",
    "df_pyspark.describe().show()"
   ]
  },
  {
   "cell_type": "code",
   "execution_count": 68,
   "id": "91a451ca-581c-4f82-9def-fa7e53a922c2",
   "metadata": {},
   "outputs": [],
   "source": [
    "#adding Columns in dataframe\n",
    "df_pyspark = df_pyspark.withColumn('Age after 2 years', df_pyspark['Age'] + 2)"
   ]
  },
  {
   "cell_type": "code",
   "execution_count": 70,
   "id": "bbe93d21-43d8-40e5-95af-79f175ff45bd",
   "metadata": {},
   "outputs": [
    {
     "name": "stdout",
     "output_type": "stream",
     "text": [
      "+-------+---+-----------------+\n",
      "|   Name|Age|Age after 2 years|\n",
      "+-------+---+-----------------+\n",
      "|Radhika| 23|               25|\n",
      "| Shivam| 24|               26|\n",
      "|  Aashi| 18|               20|\n",
      "+-------+---+-----------------+\n",
      "\n"
     ]
    }
   ],
   "source": [
    "df_pyspark.show()"
   ]
  },
  {
   "cell_type": "code",
   "execution_count": 73,
   "id": "849e7ccc-4f15-4fe8-866f-58491e94b808",
   "metadata": {},
   "outputs": [],
   "source": [
    "#dropping the columns\n",
    "df_pyspark = df_pyspark.drop('Age after 2 years')"
   ]
  },
  {
   "cell_type": "code",
   "execution_count": 74,
   "id": "5d996547-a4e7-4aca-9d67-d820386adc6f",
   "metadata": {},
   "outputs": [
    {
     "name": "stdout",
     "output_type": "stream",
     "text": [
      "+-------+---+\n",
      "|   Name|Age|\n",
      "+-------+---+\n",
      "|Radhika| 23|\n",
      "| Shivam| 24|\n",
      "|  Aashi| 18|\n",
      "+-------+---+\n",
      "\n"
     ]
    }
   ],
   "source": [
    "df_pyspark.show()"
   ]
  },
  {
   "cell_type": "code",
   "execution_count": 75,
   "id": "f73438a1-72dc-41a5-886d-f6e1036adcb3",
   "metadata": {},
   "outputs": [
    {
     "name": "stdout",
     "output_type": "stream",
     "text": [
      "+-------+---+\n",
      "|NewName|Age|\n",
      "+-------+---+\n",
      "|Radhika| 23|\n",
      "| Shivam| 24|\n",
      "|  Aashi| 18|\n",
      "+-------+---+\n",
      "\n"
     ]
    }
   ],
   "source": [
    "#renaming the column\n",
    "df_pyspark.withColumnRenamed('Name', 'NewName').show()"
   ]
  }
 ],
 "metadata": {
  "kernelspec": {
   "display_name": "pyspark-env",
   "language": "python",
   "name": "pyspark-env"
  },
  "language_info": {
   "codemirror_mode": {
    "name": "ipython",
    "version": 3
   },
   "file_extension": ".py",
   "mimetype": "text/x-python",
   "name": "python",
   "nbconvert_exporter": "python",
   "pygments_lexer": "ipython3",
   "version": "3.12.9"
  }
 },
 "nbformat": 4,
 "nbformat_minor": 5
}
